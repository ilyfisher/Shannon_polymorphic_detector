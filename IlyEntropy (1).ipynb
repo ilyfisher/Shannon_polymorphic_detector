{
 "cells": [
  {
   "cell_type": "code",
   "execution_count": 5,
   "id": "c9736df9",
   "metadata": {},
   "outputs": [
    {
     "data": {
      "text/plain": [
       "'https://onestopdataanalysis.com/shannon-entropy/'"
      ]
     },
     "execution_count": 5,
     "metadata": {},
     "output_type": "execute_result"
    }
   ],
   "source": [
    "#https://onestopdataanalysis.com/shannon-entropy/"
   ]
  },
  {
   "cell_type": "code",
   "execution_count": 6,
   "id": "357011cc",
   "metadata": {},
   "outputs": [],
   "source": [
    "import collections\n",
    "import pprint\n",
    "\n",
    "from scipy.stats import entropy"
   ]
  },
  {
   "cell_type": "code",
   "execution_count": 7,
   "id": "24d7a68f",
   "metadata": {},
   "outputs": [],
   "source": [
    "def estimate_shannon_entropy(stringSequence):\n",
    "    bases = collections.Counter([tmp_base for tmp_base in stringSequence])\n",
    "    # define distribution\n",
    "    dist = [x/sum(bases.values()) for x in bases.values()]\n",
    "    # use scipy to calculate entropy\n",
    "    entropy_value = entropy(dist, base=2)\n",
    "    #print (entropy_value)    \n",
    "    return entropy_value"
   ]
  },
  {
   "cell_type": "code",
   "execution_count": null,
   "id": "d6d56118",
   "metadata": {
    "scrolled": false
   },
   "outputs": [],
   "source": [
    "#Reads in file and simultaneously calculates entropy and stores in python dictionary\n",
    "thirdColumnEntropy={}\n",
    "\n",
    "from csv import reader\n",
    "# iterate over each line as a ordered dictionary and print only few column by column Number\n",
    "with open('YourCSVFile.csv', 'r') as read_obj:\n",
    "    csv_reader = reader(read_obj)\n",
    "    for row in csv_reader:\n",
    "        #print(row[2]) for troubleshooting [] is the third column\n",
    "        #This itterates over each row in column three\n",
    "        temp = estimate_shannon_entropy(row[2])\n",
    "        \n",
    "        #Stores entropy in dictionary as the value and simulataneously stores the row field as the key\n",
    "        thirdColumnEntropy[row[2]] = temp\n",
    "\n",
    "#print(thirdColumnEntropy)   \n",
    "import operator\n",
    "\n",
    "#sorts our dictionary in reverse order by value\n",
    "sorted_d = dict( sorted(thirdColumnEntropy.items(), key=operator.itemgetter(1),reverse=True))\n",
    "\n",
    "#print('Dictionary in descending order by value : ',sorted_d)\n",
    "print(\"Dictionary in descending order by entropy :\")\n",
    "print()\n",
    "#PPrint makes output pretty\n",
    "pprint.pprint(sorted_d, sort_dicts=False)\n",
    "\n"
   ]
  }
 ],
 "metadata": {
  "kernelspec": {
   "display_name": "Python 3 (ipykernel)",
   "language": "python",
   "name": "python3"
  },
  "language_info": {
   "codemirror_mode": {
    "name": "ipython",
    "version": 3
   },
   "file_extension": ".py",
   "mimetype": "text/x-python",
   "name": "python",
   "nbconvert_exporter": "python",
   "pygments_lexer": "ipython3",
   "version": "3.9.12"
  }
 },
 "nbformat": 4,
 "nbformat_minor": 5
}
