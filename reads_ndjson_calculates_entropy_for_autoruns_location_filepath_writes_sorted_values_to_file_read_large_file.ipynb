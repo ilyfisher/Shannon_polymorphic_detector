{
 "cells": [
  {
   "cell_type": "code",
   "execution_count": 5,
   "id": "b471d73d",
   "metadata": {},
   "outputs": [],
   "source": [
    "#RUN THIS Jupyter notebook using the option: jupyter notebook --NotebookApp.iopub_data_rate_limit=1.0e10\"\n",
    "#https://onestopdataanalysis.com/shannon-entropy/\n",
    "import json\n",
    "import collections\n",
    "import pprint\n",
    "import operator\n",
    "import csv\n",
    "\n",
    "from scipy.stats import entropy  "
   ]
  },
  {
   "cell_type": "code",
   "execution_count": 6,
   "id": "8947e8ff",
   "metadata": {},
   "outputs": [],
   "source": [
    "def estimate_shannon_entropy(stringSequence):\n",
    "    bases = collections.Counter([tmp_base for tmp_base in stringSequence])\n",
    "    # define distribution\n",
    "    dist = [x/sum(bases.values()) for x in bases.values()]\n",
    "    # use scipy to calculate entropy\n",
    "    entropy_value = entropy(dist, base=2)\n",
    "    #print (entropy_value)    \n",
    "    return entropy_value"
   ]
  },
  {
   "cell_type": "code",
   "execution_count": null,
   "id": "f4b7a1ea",
   "metadata": {},
   "outputs": [],
   "source": [
    "with open(\"Your_JsonFile.ndjson\", \"r\") as file_object:\n",
    "    # For each line in the file\n",
    "    i=0\n",
    "    totalLocations=0\n",
    "    \n",
    "    #Dictionary of file paths with entropy\n",
    "    all_UniqueLocationFilePathsWithEntropyValues={}\n",
    "    \n",
    "    for autorun_report in file_object:\n",
    "        #Convert from JSON string to data structure\n",
    "        autorun_report = json.loads (autorun_report)\n",
    "        #print (\"Autorun_report: \" + str(i))\n",
    "        \n",
    "        try:\n",
    "        \n",
    "        #Gets all autorun_locations for this current data entry\n",
    "            locations = autorun_report['data']['autoruns_locations']\n",
    "        except Exception:\n",
    "            pass\n",
    "        \n",
    "        #Prints number of locations in each data entry\n",
    "        #print (\"Autorun locations: \" + str(len(locations)))\n",
    "        totalLocations= totalLocations + len(locations)\n",
    "        \n",
    "        #Iterates over each file_path and calculates entropy for it\n",
    "        i=i+1\n",
    "        for location in locations:\n",
    "            #print(location['file_path'])\n",
    "        \n",
    "            #Calculates and stores entropy in dictionary\n",
    "            all_UniqueLocationFilePathsWithEntropyValues[location['file_path']] = estimate_shannon_entropy(location['file_path'])\n",
    "            \n",
    "            \n",
    "    print(\"Total autorun reports in JSON file: \" + str(i))  \n",
    "    print(\"Total autorun locations in report in JSON file: \" + str(totalLocations)) \n",
    "        \n",
    "    \n",
    "    "
   ]
  },
  {
   "cell_type": "code",
   "execution_count": null,
   "id": "add81ada",
   "metadata": {},
   "outputs": [],
   "source": [
    "#print(autorun locations sorted by Entropy)   \n",
    "sorted_d = dict( sorted(all_UniqueLocationFilePathsWithEntropyValues.items(), key=operator.itemgetter(1),reverse=True))\n",
    "#print('Dictionary in descending order by value : ',sorted_d)\n",
    "print(\"Dictionary in descending order by entropy :\")\n",
    "print(\"Number of UNIQUE entries in dictionary: \"+ str(len(sorted_d)))\n",
    "\n",
    "#prints sorted dictionary to screen \n",
    "#pprint.pprint(sorted_d, sort_dicts=False)\n",
    "\n",
    "#prints Dictionary to file        \n",
    "with open('Results.csv', 'w') as f:\n",
    "    for key in sorted_d.keys():\n",
    "        f.write(\"%s,%s\\n\"%(key,sorted_d[key]))\n",
    "\n"
   ]
  }
 ],
 "metadata": {
  "kernelspec": {
   "display_name": "Python [conda env:root] *",
   "language": "python",
   "name": "conda-root-py"
  },
  "language_info": {
   "codemirror_mode": {
    "name": "ipython",
    "version": 3
   },
   "file_extension": ".py",
   "mimetype": "text/x-python",
   "name": "python",
   "nbconvert_exporter": "python",
   "pygments_lexer": "ipython3",
   "version": "3.9.12"
  }
 },
 "nbformat": 4,
 "nbformat_minor": 5
}
